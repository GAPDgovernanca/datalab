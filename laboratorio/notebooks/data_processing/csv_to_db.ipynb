{
 "cells": [
  {
   "cell_type": "code",
   "execution_count": 1,
   "metadata": {},
   "outputs": [
    {
     "name": "stdout",
     "output_type": "stream",
     "text": [
      "Arquivo unified_responses.csv convertido com sucesso para unified_responses.db.\n"
     ]
    }
   ],
   "source": [
    "import pandas as pd\n",
    "import sqlite3\n",
    "\n",
    "# Nome do arquivo CSV de entrada\n",
    "csv_file = 'unified_responses.csv'\n",
    "\n",
    "# Nome do arquivo de banco de dados SQLite de saída\n",
    "db_file = 'unified_responses.db'\n",
    "\n",
    "# Ler o arquivo CSV usando o pandas\n",
    "df = pd.read_csv(csv_file)\n",
    "\n",
    "# Substituir o caractere \"#\" por \"num\" no cabeçalho\n",
    "df = df.rename(columns={'#': 'num'})\n",
    "\n",
    "# Conexão com o banco de dados SQLite\n",
    "conn = sqlite3.connect(db_file)\n",
    "\n",
    "# Criar a tabela no banco de dados\n",
    "table_name = 'unified_responses'\n",
    "df.to_sql(table_name, conn, if_exists='replace', index=False)\n",
    "\n",
    "# Fechar a conexão com o banco de dados\n",
    "conn.close()\n",
    "\n",
    "print(f'Arquivo {csv_file} convertido com sucesso para {db_file}.')"
   ]
  }
 ],
 "metadata": {
  "kernelspec": {
   "display_name": "Python 3",
   "language": "python",
   "name": "python3"
  },
  "language_info": {
   "codemirror_mode": {
    "name": "ipython",
    "version": 3
   },
   "file_extension": ".py",
   "mimetype": "text/x-python",
   "name": "python",
   "nbconvert_exporter": "python",
   "pygments_lexer": "ipython3",
   "version": "3.10.12"
  }
 },
 "nbformat": 4,
 "nbformat_minor": 2
}
