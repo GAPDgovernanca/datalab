{
 "cells": [
  {
   "cell_type": "code",
   "execution_count": null,
   "metadata": {},
   "outputs": [],
   "source": [
    "import numpy as np\n",
    "import plotly.graph_objs as go\n",
    "from plotly.subplots import make_subplots\n",
    "from ipywidgets import interact, FloatSlider\n",
    "\n",
    "# Função para calcular o preço da opção de compra (call)\n",
    "def call_price(S, K, r, T):\n",
    "    return np.maximum(S - K, 0) * np.exp(-r * T)\n",
    "\n",
    "# Função para calcular o preço da opção de venda (put)\n",
    "def put_price(S, K, r, T):\n",
    "    return np.maximum(K - S, 0) * np.exp(-r * T)\n",
    "\n",
    "# Função para demonstrar a Paridade Put-Call\n",
    "def demonstrate_put_call_parity(S, K, r, T):\n",
    "    # Preço atual do ativo\n",
    "    S_range = np.linspace(0.1, 2 * K, 400)\n",
    "    \n",
    "    # Preços das opções\n",
    "    call_prices = call_price(S_range, K, r, T)\n",
    "    put_prices = put_price(S_range, K, r, T)\n",
    "    \n",
    "    # Paridade Put-Call: C + K * e^(-rT) = P + S\n",
    "    call_plus_strike = call_prices + K * np.exp(-r * T)\n",
    "    put_plus_asset = put_prices + S_range\n",
    "    \n",
    "    # Criando o gráfico interativo com Plotly\n",
    "    fig = make_subplots(rows=1, cols=1)\n",
    "    \n",
    "    fig.add_trace(go.Scatter(x=S_range, y=call_plus_strike, mode='lines', name='Call + K * e^(-rT)', line=dict(color='blue')))\n",
    "    fig.add_trace(go.Scatter(x=S_range, y=put_plus_asset, mode='lines', name='Put + S', line=dict(color='red')))\n",
    "    \n",
    "    fig.add_hline(y=K * np.exp(-r * T), line_dash=\"dash\", line_color=\"green\", name='K * e^(-rT)')\n",
    "    fig.add_vline(x=S, line_dash=\"dash\", line_color=\"orange\", name='Preço Atual do Ativo (S)')\n",
    "    \n",
    "    fig.update_layout(title='Paridade Put-Call',\n",
    "                      xaxis_title='Preço do Ativo (S)',\n",
    "                      yaxis_title='Preço',\n",
    "                      legend_title='Legenda',\n",
    "                      template='plotly_dark')\n",
    "    \n",
    "    fig.show()\n",
    "\n",
    "# Interface interativa usando ipywidgets\n",
    "@interact(S=FloatSlider(min=0.1, max=200, step=0.1, value=100, description='Preço Atual do Ativo (S)'),\n",
    "          K=FloatSlider(min=0.1, max=200, step=0.1, value=100, description='Preço de Exercício (K)'),\n",
    "          r=FloatSlider(min=0.0, max=0.1, step=0.001, value=0.05, description='Taxa de Juros (r)'),\n",
    "          T=FloatSlider(min=0.01, max=2, step=0.01, value=1, description='Tempo até o Vencimento (T)'))\n",
    "def update(S, K, r, T):\n",
    "    demonstrate_put_call_parity(S, K, r, T)"
   ]
  }
 ],
 "metadata": {
  "kernelspec": {
   "display_name": "gregas",
   "language": "python",
   "name": "python3"
  },
  "language_info": {
   "codemirror_mode": {
    "name": "ipython",
    "version": 3
   },
   "file_extension": ".py",
   "mimetype": "text/x-python",
   "name": "python",
   "nbconvert_exporter": "python",
   "pygments_lexer": "ipython3",
   "version": "3.13.1"
  }
 },
 "nbformat": 4,
 "nbformat_minor": 2
}
